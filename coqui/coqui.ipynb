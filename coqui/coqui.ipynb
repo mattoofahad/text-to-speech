{
 "cells": [
  {
   "cell_type": "markdown",
   "metadata": {},
   "source": [
    "# Install Libraries"
   ]
  },
  {
   "cell_type": "code",
   "execution_count": null,
   "metadata": {},
   "outputs": [],
   "source": [
    "!apt update && apt install espeak\n",
    "!pip install espeakng\n",
    "!pip install TTS"
   ]
  },
  {
   "cell_type": "markdown",
   "metadata": {},
   "source": [
    "# Create output Folder"
   ]
  },
  {
   "cell_type": "code",
   "execution_count": null,
   "metadata": {},
   "outputs": [],
   "source": [
    "!mkdir coqui_output"
   ]
  },
  {
   "cell_type": "markdown",
   "metadata": {},
   "source": [
    "# Import libraries"
   ]
  },
  {
   "cell_type": "code",
   "execution_count": null,
   "metadata": {},
   "outputs": [],
   "source": [
    "import torch\n",
    "from TTS.api import TTS\n",
    "import time\n",
    "import numpy as np"
   ]
  },
  {
   "cell_type": "markdown",
   "metadata": {},
   "source": [
    "# Configuration"
   ]
  },
  {
   "cell_type": "code",
   "execution_count": null,
   "metadata": {},
   "outputs": [],
   "source": [
    "# list of Coqui models available\n",
    "# !tts --list_models"
   ]
  },
  {
   "cell_type": "code",
   "execution_count": null,
   "metadata": {},
   "outputs": [],
   "source": [
    "# get information for the model\n",
    "!tts --model_info_by_name \"tts_models/en/ljspeech/vits\""
   ]
  },
  {
   "cell_type": "code",
   "execution_count": null,
   "metadata": {},
   "outputs": [],
   "source": [
    "# select models for inference\n",
    "model_list = {\n",
    "    # \"tts_models/en/ljspeech/tacotron2-DDC\": [],\n",
    "    # \"tts_models/en/ljspeech/tacotron2-DDC_ph\": [],\n",
    "    # \"tts_models/en/ljspeech/glow-tts\": [],\n",
    "    # \"tts_models/en/ljspeech/speedy-speech\": [],\n",
    "    # \"tts_models/en/ljspeech/tacotron2-DCA\": [],\n",
    "    \"tts_models/en/ljspeech/vits\": [],\n",
    "    # \"tts_models/en/ljspeech/vits--neon\": [],\n",
    "    # \"tts_models/en/ljspeech/fast_pitch\": [],\n",
    "}\n",
    "\n",
    "# setup GPU if available\n",
    "device = \"cuda\" if torch.cuda.is_available() else \"cpu\"\n",
    "\n",
    "# loading models\n",
    "for model_name in model_list.keys():\n",
    "    model_list[model_name].append(TTS(model_name=model_name, progress_bar=False).to(device))\n",
    "    \n",
    "# Text to convert to audio\n",
    "text = \"This is sample text that will be convert to speech.\""
   ]
  },
  {
   "cell_type": "markdown",
   "metadata": {},
   "source": [
    "# inference"
   ]
  },
  {
   "cell_type": "code",
   "execution_count": null,
   "metadata": {},
   "outputs": [],
   "source": [
    "def inference_model(tts, model_name):\n",
    "    print(f\"Inference for {model_name} model on {device} started.\")\n",
    "    start_time = time.time()\n",
    "    tts.tts_to_file(text=text, file_path=f\"coqui_output/{device}_{model_name.replace('/','_')}.wav\")\n",
    "    print(f\"Inference Time: {time.time() - start_time}\")\n",
    "    print(f\"Inference for {model_name} model ended.\\n\\n\")"
   ]
  },
  {
   "cell_type": "code",
   "execution_count": null,
   "metadata": {},
   "outputs": [],
   "source": [
    "for model_name in model_list.keys():\n",
    "    inference_model(model_list[model_name][0], model_name)"
   ]
  }
 ],
 "metadata": {
  "language_info": {
   "name": "python"
  }
 },
 "nbformat": 4,
 "nbformat_minor": 2
}
