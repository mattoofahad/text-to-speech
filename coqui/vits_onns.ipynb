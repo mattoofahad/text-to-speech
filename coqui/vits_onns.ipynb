{
 "cells": [
  {
   "cell_type": "code",
   "execution_count": null,
   "metadata": {},
   "outputs": [],
   "source": [
    "!wget https://coqui.gateway.scarf.sh/v0.6.1_models/tts_models--en--ljspeech--vits.zip\n",
    "!unzip tts_models--en--ljspeech--vits.zip"
   ]
  },
  {
   "cell_type": "code",
   "execution_count": null,
   "metadata": {},
   "outputs": [],
   "source": [
    "!apt update && apt install espeak\n",
    "!pip install espeakng\n",
    "!pip install TTS"
   ]
  },
  {
   "cell_type": "code",
   "execution_count": null,
   "metadata": {},
   "outputs": [],
   "source": [
    "!pip install onnx\n",
    "!pip install onnxruntime"
   ]
  },
  {
   "cell_type": "code",
   "execution_count": null,
   "metadata": {},
   "outputs": [],
   "source": [
    "from TTS.tts.models.vits import Vits\n",
    "from TTS.tts.configs.vits_config import VitsConfig\n",
    "from TTS.utils.audio.numpy_transforms import save_wav\n",
    "\n",
    "\n",
    "config = VitsConfig()\n",
    "config.load_json(\"/content/vits/config.json\")\n",
    "vits = Vits.init_from_config(config)\n",
    "vits.load_checkpoint(config,  \"/content/vits/model_file.pth\")"
   ]
  },
  {
   "cell_type": "code",
   "execution_count": null,
   "metadata": {},
   "outputs": [],
   "source": [
    "vits.export_onnx()\n",
    "vits.load_onnx(\"coqui_vits.onnx\")\n",
    "\n",
    "text = \"This is a test\"\n",
    "text_inputs = np.asarray(\n",
    "    vits.tokenizer.text_to_ids(text, language=\"en\"),\n",
    "    dtype=np.int64,\n",
    ")[None, :]\n",
    "\n",
    "audio = vits.inference_onnx(text_inputs)\n",
    "print(audio.shape)\n",
    "\n",
    "save_wav(wav=audio[0], path=\"coqui_vits.wav\", sample_rate=config.audio.sample_rate)"
   ]
  }
 ],
 "metadata": {
  "language_info": {
   "name": "python"
  }
 },
 "nbformat": 4,
 "nbformat_minor": 2
}
